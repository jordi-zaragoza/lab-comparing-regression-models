{
 "cells": [
  {
   "cell_type": "markdown",
   "id": "saving-comment",
   "metadata": {},
   "source": [
    "![logo_ironhack_blue 7](https://user-images.githubusercontent.com/23629340/40541063-a07a0a8a-601a-11e8-91b5-2f13e4e6b441.png)\n",
    "\n",
    "# Lab | Comparing regression models\n",
    "\n",
    "\n",
    "For this lab, we will be using the same dataset we used in the previous labs. We recommend using the same notebook since you will be reusing the same variables you previous created and used in labs. \n",
    "\n",
    "### Instructions\n",
    "\n",
    "1. In this final lab, we will model our data. Import sklearn `train_test_split` and separate the data.\n",
    "\n",
    "\n",
    "\n",
    "\n",
    "\n",
    "\n",
    "\n",
    "\n",
    "\n",
    "\n",
    "\n"
   ]
  },
  {
   "cell_type": "code",
   "execution_count": 2,
   "id": "retired-failing",
   "metadata": {},
   "outputs": [],
   "source": [
    "import pandas as pd\n",
    "import numpy as np \n",
    "import matplotlib.pyplot as plt\n",
    "import seaborn as sns\n",
    "import re\n",
    "import functions\n",
    "import plot_jordi\n",
    "import metrics_jor\n",
    "from sklearn.linear_model import LinearRegression"
   ]
  },
  {
   "cell_type": "code",
   "execution_count": 3,
   "id": "thick-pakistan",
   "metadata": {},
   "outputs": [
    {
     "data": {
      "text/html": [
       "<div>\n",
       "<style scoped>\n",
       "    .dataframe tbody tr th:only-of-type {\n",
       "        vertical-align: middle;\n",
       "    }\n",
       "\n",
       "    .dataframe tbody tr th {\n",
       "        vertical-align: top;\n",
       "    }\n",
       "\n",
       "    .dataframe thead th {\n",
       "        text-align: right;\n",
       "    }\n",
       "</style>\n",
       "<table border=\"1\" class=\"dataframe\">\n",
       "  <thead>\n",
       "    <tr style=\"text-align: right;\">\n",
       "      <th></th>\n",
       "      <th>Customer</th>\n",
       "      <th>State</th>\n",
       "      <th>Customer Lifetime Value</th>\n",
       "      <th>Response</th>\n",
       "      <th>Coverage</th>\n",
       "      <th>Education</th>\n",
       "      <th>Effective To Date</th>\n",
       "      <th>EmploymentStatus</th>\n",
       "      <th>Gender</th>\n",
       "      <th>Income</th>\n",
       "      <th>...</th>\n",
       "      <th>Months Since Policy Inception</th>\n",
       "      <th>Number of Open Complaints</th>\n",
       "      <th>Number of Policies</th>\n",
       "      <th>Policy Type</th>\n",
       "      <th>Policy</th>\n",
       "      <th>Renew Offer Type</th>\n",
       "      <th>Sales Channel</th>\n",
       "      <th>Total Claim Amount</th>\n",
       "      <th>Vehicle Class</th>\n",
       "      <th>Vehicle Size</th>\n",
       "    </tr>\n",
       "  </thead>\n",
       "  <tbody>\n",
       "    <tr>\n",
       "      <th>0</th>\n",
       "      <td>BU79786</td>\n",
       "      <td>Washington</td>\n",
       "      <td>2763.519279</td>\n",
       "      <td>No</td>\n",
       "      <td>Basic</td>\n",
       "      <td>Bachelor</td>\n",
       "      <td>2/24/11</td>\n",
       "      <td>Employed</td>\n",
       "      <td>F</td>\n",
       "      <td>56274</td>\n",
       "      <td>...</td>\n",
       "      <td>5</td>\n",
       "      <td>0</td>\n",
       "      <td>1</td>\n",
       "      <td>Corporate Auto</td>\n",
       "      <td>Corporate L3</td>\n",
       "      <td>Offer1</td>\n",
       "      <td>Agent</td>\n",
       "      <td>384.811147</td>\n",
       "      <td>Two-Door Car</td>\n",
       "      <td>Medsize</td>\n",
       "    </tr>\n",
       "    <tr>\n",
       "      <th>1</th>\n",
       "      <td>QZ44356</td>\n",
       "      <td>Arizona</td>\n",
       "      <td>6979.535903</td>\n",
       "      <td>No</td>\n",
       "      <td>Extended</td>\n",
       "      <td>Bachelor</td>\n",
       "      <td>1/31/11</td>\n",
       "      <td>Unemployed</td>\n",
       "      <td>F</td>\n",
       "      <td>0</td>\n",
       "      <td>...</td>\n",
       "      <td>42</td>\n",
       "      <td>0</td>\n",
       "      <td>8</td>\n",
       "      <td>Personal Auto</td>\n",
       "      <td>Personal L3</td>\n",
       "      <td>Offer3</td>\n",
       "      <td>Agent</td>\n",
       "      <td>1131.464935</td>\n",
       "      <td>Four-Door Car</td>\n",
       "      <td>Medsize</td>\n",
       "    </tr>\n",
       "    <tr>\n",
       "      <th>2</th>\n",
       "      <td>AI49188</td>\n",
       "      <td>Nevada</td>\n",
       "      <td>12887.431650</td>\n",
       "      <td>No</td>\n",
       "      <td>Premium</td>\n",
       "      <td>Bachelor</td>\n",
       "      <td>2/19/11</td>\n",
       "      <td>Employed</td>\n",
       "      <td>F</td>\n",
       "      <td>48767</td>\n",
       "      <td>...</td>\n",
       "      <td>38</td>\n",
       "      <td>0</td>\n",
       "      <td>2</td>\n",
       "      <td>Personal Auto</td>\n",
       "      <td>Personal L3</td>\n",
       "      <td>Offer1</td>\n",
       "      <td>Agent</td>\n",
       "      <td>566.472247</td>\n",
       "      <td>Two-Door Car</td>\n",
       "      <td>Medsize</td>\n",
       "    </tr>\n",
       "  </tbody>\n",
       "</table>\n",
       "<p>3 rows × 24 columns</p>\n",
       "</div>"
      ],
      "text/plain": [
       "  Customer       State  Customer Lifetime Value Response  Coverage Education  \\\n",
       "0  BU79786  Washington              2763.519279       No     Basic  Bachelor   \n",
       "1  QZ44356     Arizona              6979.535903       No  Extended  Bachelor   \n",
       "2  AI49188      Nevada             12887.431650       No   Premium  Bachelor   \n",
       "\n",
       "  Effective To Date EmploymentStatus Gender  Income  ...  \\\n",
       "0           2/24/11         Employed      F   56274  ...   \n",
       "1           1/31/11       Unemployed      F       0  ...   \n",
       "2           2/19/11         Employed      F   48767  ...   \n",
       "\n",
       "  Months Since Policy Inception Number of Open Complaints  Number of Policies  \\\n",
       "0                             5                         0                   1   \n",
       "1                            42                         0                   8   \n",
       "2                            38                         0                   2   \n",
       "\n",
       "      Policy Type        Policy  Renew Offer Type  Sales Channel  \\\n",
       "0  Corporate Auto  Corporate L3            Offer1          Agent   \n",
       "1   Personal Auto   Personal L3            Offer3          Agent   \n",
       "2   Personal Auto   Personal L3            Offer1          Agent   \n",
       "\n",
       "  Total Claim Amount  Vehicle Class Vehicle Size  \n",
       "0         384.811147   Two-Door Car      Medsize  \n",
       "1        1131.464935  Four-Door Car      Medsize  \n",
       "2         566.472247   Two-Door Car      Medsize  \n",
       "\n",
       "[3 rows x 24 columns]"
      ]
     },
     "execution_count": 3,
     "metadata": {},
     "output_type": "execute_result"
    }
   ],
   "source": [
    "data = pd.read_csv('files_for_lab/we_fn_use_c_marketing_customer_value_analysis.csv') # this file is in files_for_lesson_and_activities folder\n",
    "data.head(3)"
   ]
  },
  {
   "cell_type": "code",
   "execution_count": 4,
   "id": "subtle-organic",
   "metadata": {},
   "outputs": [],
   "source": [
    "data = data.drop(columns=['Customer'])"
   ]
  },
  {
   "cell_type": "code",
   "execution_count": 5,
   "id": "recovered-tokyo",
   "metadata": {},
   "outputs": [],
   "source": [
    "columns2 = []\n",
    "for col in data.columns:\n",
    "    columns2.append(re.sub(\" \",\"_\", col).lower())\n",
    "data.columns = columns2"
   ]
  },
  {
   "cell_type": "markdown",
   "id": "accessory-rehabilitation",
   "metadata": {},
   "source": [
    "2. We will start with removing outliers, if you have not already done so.  We have discussed different methods to remove outliers. Use the one you feel more comfortable with, define a function for that. Use the function to remove the outliers and apply it to the dataframe."
   ]
  },
  {
   "cell_type": "code",
   "execution_count": 6,
   "id": "organizational-cowboy",
   "metadata": {},
   "outputs": [
    {
     "name": "stdout",
     "output_type": "stream",
     "text": [
      "Points removed: 8\n",
      "Percentage of points removed is: 0.09 %\n"
     ]
    }
   ],
   "source": [
    "data2 = functions.Remove_outlayers(data,'customer_lifetime_value',1.5)"
   ]
  },
  {
   "cell_type": "code",
   "execution_count": 7,
   "id": "minor-mailman",
   "metadata": {},
   "outputs": [
    {
     "name": "stdout",
     "output_type": "stream",
     "text": [
      "Points removed: 258\n",
      "Percentage of points removed is: 2.83 %\n"
     ]
    }
   ],
   "source": [
    "data3 = functions.Remove_outlayers(data2,'total_claim_amount',1.5)"
   ]
  },
  {
   "cell_type": "markdown",
   "id": "racial-ceremony",
   "metadata": {},
   "source": [
    "3. Create a copy of the dataframe for the data wrangling."
   ]
  },
  {
   "cell_type": "code",
   "execution_count": 8,
   "id": "fantastic-daughter",
   "metadata": {},
   "outputs": [],
   "source": [
    "data_copy = data3.copy()"
   ]
  },
  {
   "cell_type": "markdown",
   "id": "distinct-agenda",
   "metadata": {},
   "source": [
    "4. Normalize the continuous variables. You can use any one method you want."
   ]
  },
  {
   "cell_type": "code",
   "execution_count": 9,
   "id": "dedicated-people",
   "metadata": {},
   "outputs": [],
   "source": [
    "# X-Y Split \n",
    "X,y = functions.xy_split(data_copy)"
   ]
  },
  {
   "cell_type": "code",
   "execution_count": 10,
   "id": "weekly-bathroom",
   "metadata": {},
   "outputs": [],
   "source": [
    "# for the Y we will use the log\n",
    "y = np.log(y)"
   ]
  },
  {
   "cell_type": "code",
   "execution_count": 11,
   "id": "external-albert",
   "metadata": {},
   "outputs": [],
   "source": [
    "# Train and test split\n",
    "X_train, X_test, y_train, y_test = functions.tr_ts_split(X,y)"
   ]
  },
  {
   "cell_type": "code",
   "execution_count": 12,
   "id": "crude-commander",
   "metadata": {},
   "outputs": [],
   "source": [
    "# Numerical categorical\n",
    "numerical_train, categorical_train= functions.cat_num_split(X_train)\n",
    "numerical_test, categorical_test= functions.cat_num_split(X_test)"
   ]
  },
  {
   "cell_type": "code",
   "execution_count": 13,
   "id": "blond-joint",
   "metadata": {},
   "outputs": [],
   "source": [
    "# Numerica Transformation\n",
    "num_tr = functions.num_get_tr_power(numerical_train)\n",
    "numerical_train_trans = functions.num_transform(numerical_train, num_tr)\n",
    "numerical_test_trans = functions.num_transform(numerical_test, num_tr)"
   ]
  },
  {
   "cell_type": "markdown",
   "id": "demanding-rapid",
   "metadata": {},
   "source": [
    "5. Encode the categorical variables (See the hint below for encoding categorical data!!!)"
   ]
  },
  {
   "cell_type": "code",
   "execution_count": 14,
   "id": "blank-seventh",
   "metadata": {},
   "outputs": [],
   "source": [
    "# Group some categories\n",
    "cat_nom_train_group = functions.cat_group_labels(categorical_train)\n",
    "cat_nom_test_group = functions.cat_group_labels(categorical_test)"
   ]
  },
  {
   "cell_type": "code",
   "execution_count": 15,
   "id": "sticky-massachusetts",
   "metadata": {},
   "outputs": [],
   "source": [
    "# For the OneHotEncoder:\n",
    "cat_ohe_train = cat_nom_train_group[['state','marital_status','policy_type','policy','renew_offer_type','sales_channel','vehicle_class']]\n",
    "cat_ohe_test = cat_nom_test_group[['state','marital_status','policy_type','policy','renew_offer_type','sales_channel','vehicle_class']]"
   ]
  },
  {
   "cell_type": "code",
   "execution_count": 16,
   "id": "sunrise-proxy",
   "metadata": {},
   "outputs": [],
   "source": [
    "cat_enc = functions.cat_get_enc(cat_ohe_train)\n",
    "categorical_train_enc = functions.cat_transform_hot(cat_ohe_train,cat_enc)\n",
    "categorical_test_enc = functions.cat_transform_hot(cat_ohe_test,cat_enc)"
   ]
  },
  {
   "cell_type": "code",
   "execution_count": 17,
   "id": "quiet-fantasy",
   "metadata": {},
   "outputs": [],
   "source": [
    "# For the Ordinal values:\n",
    "cat_nom_train = cat_nom_train_group[['coverage','employmentstatus','location_code','vehicle_size','education']]\n",
    "cat_nom_test = cat_nom_test_group[['coverage','employmentstatus','location_code','vehicle_size','education']]"
   ]
  },
  {
   "cell_type": "code",
   "execution_count": 18,
   "id": "foster-candle",
   "metadata": {},
   "outputs": [],
   "source": [
    "categorical_train_enc2 = functions.cat_transform_ordinal(cat_nom_train)\n",
    "categorical_test_enc2 = functions.cat_transform_ordinal(cat_nom_test)"
   ]
  },
  {
   "cell_type": "markdown",
   "id": "talented-brooks",
   "metadata": {},
   "source": [
    "6. The time variable can be useful. Try to transform its data into a useful one. Hint: Day week and month as integers might be useful."
   ]
  },
  {
   "cell_type": "code",
   "execution_count": 19,
   "id": "eight-teach",
   "metadata": {},
   "outputs": [],
   "source": [
    "categorical_time_train = functions.day_week_month(categorical_train)\n",
    "categorical_time_test = functions.day_week_month(categorical_test)"
   ]
  },
  {
   "cell_type": "markdown",
   "id": "speaking-stanford",
   "metadata": {},
   "source": [
    "7. Since the model will only accept numerical data, check and make sure that every column is numerical, if some are not, change it using encoding."
   ]
  },
  {
   "cell_type": "code",
   "execution_count": 20,
   "id": "statewide-czech",
   "metadata": {},
   "outputs": [],
   "source": [
    "# Concatenate everything back\n",
    "X_tot_train = pd.concat([numerical_train_trans,categorical_train_enc,categorical_train_enc2,categorical_time_train], axis=1) \n",
    "X_tot_test = pd.concat([numerical_test_trans,categorical_test_enc,categorical_test_enc2,categorical_time_test], axis=1) "
   ]
  },
  {
   "cell_type": "code",
   "execution_count": 21,
   "id": "alternate-record",
   "metadata": {
    "scrolled": true
   },
   "outputs": [],
   "source": [
    "# X_tot_train.info() We can see that it is everything numeric"
   ]
  },
  {
   "cell_type": "code",
   "execution_count": 22,
   "id": "closed-slovenia",
   "metadata": {},
   "outputs": [],
   "source": [
    "df = data.copy()\n",
    "continuous_list = []\n",
    "discrete_list=[]\n",
    "for col in df:\n",
    "    if df[col].nunique() >= 59:\n",
    "        continuous_list.append(col)\n",
    "        continuous_df = df[continuous_list]\n",
    "\n",
    "    else: \n",
    "        discrete_list.append(col)\n",
    "        discrete_df = df[discrete_list]"
   ]
  },
  {
   "cell_type": "code",
   "execution_count": 23,
   "id": "consecutive-reduction",
   "metadata": {},
   "outputs": [],
   "source": [
    "# Do a minmax scaler on everything\n",
    "minmax_tr = functions.num_get_tr_power(X_tot_train)\n",
    "X_tot_train_trans = functions.num_transform(X_tot_train, minmax_tr)\n",
    "X_tot_test_trans = functions.num_transform(X_tot_test, minmax_tr)"
   ]
  },
  {
   "cell_type": "code",
   "execution_count": null,
   "id": "broadband-capitol",
   "metadata": {},
   "outputs": [],
   "source": []
  },
  {
   "cell_type": "markdown",
   "id": "pending-latin",
   "metadata": {},
   "source": [
    "8. Try a simple linear regression with all the data to see whether we are getting good results."
   ]
  },
  {
   "cell_type": "code",
   "execution_count": 24,
   "id": "decimal-liberty",
   "metadata": {},
   "outputs": [],
   "source": [
    "reg = LinearRegression().fit(X_tot_train_trans, y_train)\n",
    "y_pred_train = reg.predict(X_tot_train_trans)\n",
    "y_pred_test = reg.predict(X_tot_test_trans)"
   ]
  },
  {
   "cell_type": "code",
   "execution_count": 25,
   "id": "congressional-sullivan",
   "metadata": {},
   "outputs": [
    {
     "data": {
      "text/html": [
       "<div>\n",
       "<style scoped>\n",
       "    .dataframe tbody tr th:only-of-type {\n",
       "        vertical-align: middle;\n",
       "    }\n",
       "\n",
       "    .dataframe tbody tr th {\n",
       "        vertical-align: top;\n",
       "    }\n",
       "\n",
       "    .dataframe thead th {\n",
       "        text-align: right;\n",
       "    }\n",
       "</style>\n",
       "<table border=\"1\" class=\"dataframe\">\n",
       "  <thead>\n",
       "    <tr style=\"text-align: right;\">\n",
       "      <th></th>\n",
       "      <th>metrics</th>\n",
       "      <th>Train</th>\n",
       "      <th>Test</th>\n",
       "    </tr>\n",
       "  </thead>\n",
       "  <tbody>\n",
       "    <tr>\n",
       "      <th>0</th>\n",
       "      <td>R2</td>\n",
       "      <td>0.37</td>\n",
       "      <td>0.37</td>\n",
       "    </tr>\n",
       "    <tr>\n",
       "      <th>1</th>\n",
       "      <td>MSE</td>\n",
       "      <td>0.50</td>\n",
       "      <td>0.51</td>\n",
       "    </tr>\n",
       "    <tr>\n",
       "      <th>2</th>\n",
       "      <td>RMSE</td>\n",
       "      <td>0.70</td>\n",
       "      <td>0.72</td>\n",
       "    </tr>\n",
       "    <tr>\n",
       "      <th>3</th>\n",
       "      <td>MAE</td>\n",
       "      <td>0.43</td>\n",
       "      <td>0.44</td>\n",
       "    </tr>\n",
       "  </tbody>\n",
       "</table>\n",
       "</div>"
      ],
      "text/plain": [
       "  metrics  Train  Test\n",
       "0      R2   0.37  0.37\n",
       "1     MSE   0.50  0.51\n",
       "2    RMSE   0.70  0.72\n",
       "3     MAE   0.43  0.44"
      ]
     },
     "execution_count": 25,
     "metadata": {},
     "output_type": "execute_result"
    }
   ],
   "source": [
    "metrics_jor.MetricsResults(y_train, y_pred_train,y_test,y_pred_test)"
   ]
  },
  {
   "cell_type": "code",
   "execution_count": 26,
   "id": "assisted-pocket",
   "metadata": {
    "scrolled": true
   },
   "outputs": [
    {
     "data": {
      "image/png": "[encoded data removed]",
      "text/plain": [
       "<Figure size 1080x648 with 4 Axes>"
      ]
     },
     "metadata": {},
     "output_type": "display_data"
    }
   ],
   "source": [
    "plot_jordi.results_drawer(y_pred_train,y_train,y_pred_test,y_test)"
   ]
  },
  {
   "cell_type": "markdown",
   "id": "tested-rachel",
   "metadata": {},
   "source": [
    "9. Great! Now define a function that takes a list of models and train (and tests) them so we can try a lot of them without repeating code."
   ]
  },
  {
   "cell_type": "code",
   "execution_count": 75,
   "id": "otherwise-course",
   "metadata": {},
   "outputs": [],
   "source": [
    "def Model_try_and_test(df, typ = LinearRegression(), disp_metrics = False): \n",
    "    # X-Y Split \n",
    "    X,y_exp = functions.xy_split(data_copy)\n",
    "    \n",
    "    # We use the log(y)\n",
    "    y = np.log(y_exp)\n",
    "\n",
    "    # Train and test split\n",
    "    X_train, X_test, y_train, y_test = functions.tr_ts_split(X,y)\n",
    "\n",
    "    # Train\n",
    "    X_train_tr, num_tr, cat_enc, minmax_tr = functions.Model_train(X_train)\n",
    "\n",
    "    # And test\n",
    "    X_test_tr = functions.Model_transform(X_test,num_tr,cat_enc,minmax_tr)\n",
    "    \n",
    "    # We do the regrresion\n",
    "    typ.fit(X_train_tr, y_train)\n",
    "    y_pred_train = typ.predict(X_train_tr)\n",
    "    y_pred_test = typ.predict(X_test_tr)\n",
    "    \n",
    "    # Show the results\n",
    "    if disp_metrics == True:\n",
    "        display(metrics_jor.MetricsResults(y_train, y_pred_train,y_test,y_pred_test))\n",
    "\n",
    "    return typ.score(X_test_tr, y_test), typ"
   ]
  },
  {
   "cell_type": "markdown",
   "id": "electrical-principle",
   "metadata": {},
   "source": [
    "10. Use the function to check `LinearRegressor` and `KNeighborsRegressor`."
   ]
  },
  {
   "cell_type": "code",
   "execution_count": 76,
   "id": "detected-sydney",
   "metadata": {},
   "outputs": [
    {
     "data": {
      "text/html": [
       "<div>\n",
       "<style scoped>\n",
       "    .dataframe tbody tr th:only-of-type {\n",
       "        vertical-align: middle;\n",
       "    }\n",
       "\n",
       "    .dataframe tbody tr th {\n",
       "        vertical-align: top;\n",
       "    }\n",
       "\n",
       "    .dataframe thead th {\n",
       "        text-align: right;\n",
       "    }\n",
       "</style>\n",
       "<table border=\"1\" class=\"dataframe\">\n",
       "  <thead>\n",
       "    <tr style=\"text-align: right;\">\n",
       "      <th></th>\n",
       "      <th>metrics</th>\n",
       "      <th>Train</th>\n",
       "      <th>Test</th>\n",
       "    </tr>\n",
       "  </thead>\n",
       "  <tbody>\n",
       "    <tr>\n",
       "      <th>0</th>\n",
       "      <td>R2</td>\n",
       "      <td>0.37</td>\n",
       "      <td>0.37</td>\n",
       "    </tr>\n",
       "    <tr>\n",
       "      <th>1</th>\n",
       "      <td>MSE</td>\n",
       "      <td>0.50</td>\n",
       "      <td>0.51</td>\n",
       "    </tr>\n",
       "    <tr>\n",
       "      <th>2</th>\n",
       "      <td>RMSE</td>\n",
       "      <td>0.70</td>\n",
       "      <td>0.72</td>\n",
       "    </tr>\n",
       "    <tr>\n",
       "      <th>3</th>\n",
       "      <td>MAE</td>\n",
       "      <td>0.43</td>\n",
       "      <td>0.44</td>\n",
       "    </tr>\n",
       "  </tbody>\n",
       "</table>\n",
       "</div>"
      ],
      "text/plain": [
       "  metrics  Train  Test\n",
       "0      R2   0.37  0.37\n",
       "1     MSE   0.50  0.51\n",
       "2    RMSE   0.70  0.72\n",
       "3     MAE   0.43  0.44"
      ]
     },
     "metadata": {},
     "output_type": "display_data"
    },
    {
     "data": {
      "text/plain": [
       "(0.37134556461835955, LinearRegression())"
      ]
     },
     "execution_count": 76,
     "metadata": {},
     "output_type": "execute_result"
    }
   ],
   "source": [
    "Model_try_and_test(data_copy,disp_metrics = True)"
   ]
  },
  {
   "cell_type": "code",
   "execution_count": 77,
   "id": "danish-therapist",
   "metadata": {},
   "outputs": [
    {
     "data": {
      "text/plain": [
       "(0.2592609910670065, KNeighborsRegressor(n_neighbors=20))"
      ]
     },
     "execution_count": 77,
     "metadata": {},
     "output_type": "execute_result"
    }
   ],
   "source": [
    "Model_try_and_test(data_copy, KNeighborsRegressor(n_neighbors = 20))"
   ]
  },
  {
   "cell_type": "code",
   "execution_count": 78,
   "id": "ignored-clinic",
   "metadata": {},
   "outputs": [
    {
     "name": "stdout",
     "output_type": "stream",
     "text": [
      "Training the k-NN model with 2 neihgbours...\n",
      "\n",
      "Training the k-NN model with 3 neihgbours...\n",
      "\n",
      "Training the k-NN model with 4 neihgbours...\n",
      "\n",
      "Training the k-NN model with 5 neihgbours...\n",
      "\n",
      "Training the k-NN model with 6 neihgbours...\n",
      "\n",
      "Training the k-NN model with 7 neihgbours...\n",
      "\n",
      "Training the k-NN model with 8 neihgbours...\n",
      "\n",
      "Training the k-NN model with 9 neihgbours...\n",
      "\n",
      "Training the k-NN model with 10 neihgbours...\n",
      "\n",
      "Training the k-NN model with 11 neihgbours...\n",
      "\n",
      "Training the k-NN model with 12 neihgbours...\n",
      "\n",
      "Training the k-NN model with 13 neihgbours...\n",
      "\n",
      "Training the k-NN model with 14 neihgbours...\n",
      "\n"
     ]
    }
   ],
   "source": [
    "knn_models = []\n",
    "scores = []\n",
    "for k in range(2,15):\n",
    "    model = KNeighborsRegressor(n_neighbors=k)\n",
    "    print(\"Training the k-NN model with {} neihgbours...\".format(k))\n",
    "    score, model = Model_try_and_test(data_copy, model)\n",
    "    knn_models.append(model)\n",
    "    scores.append(score)\n",
    "    print()"
   ]
  },
  {
   "cell_type": "code",
   "execution_count": 80,
   "id": "irish-marble",
   "metadata": {
    "scrolled": true
   },
   "outputs": [
    {
     "name": "stdout",
     "output_type": "stream",
     "text": [
      "The R2 of the k-nn model with 2 neighbours on the TEST set was: -0.01\n",
      "The R2 of the k-nn model with 3 neighbours on the TEST set was: 0.09\n",
      "The R2 of the k-nn model with 4 neighbours on the TEST set was: 0.14\n",
      "The R2 of the k-nn model with 5 neighbours on the TEST set was: 0.17\n",
      "The R2 of the k-nn model with 6 neighbours on the TEST set was: 0.19\n",
      "The R2 of the k-nn model with 7 neighbours on the TEST set was: 0.21\n",
      "The R2 of the k-nn model with 8 neighbours on the TEST set was: 0.22\n",
      "The R2 of the k-nn model with 9 neighbours on the TEST set was: 0.23\n",
      "The R2 of the k-nn model with 10 neighbours on the TEST set was: 0.23\n",
      "The R2 of the k-nn model with 11 neighbours on the TEST set was: 0.24\n",
      "The R2 of the k-nn model with 12 neighbours on the TEST set was: 0.24\n",
      "The R2 of the k-nn model with 13 neighbours on the TEST set was: 0.24\n",
      "The R2 of the k-nn model with 14 neighbours on the TEST set was: 0.25\n"
     ]
    }
   ],
   "source": [
    "for index,score in enumerate(scores):\n",
    "    print(\"The R2 of the k-nn model with {} neighbours on the TEST set was: {:.2f}\".format(index+2,score))"
   ]
  },
  {
   "cell_type": "code",
   "execution_count": 81,
   "id": "breeding-jimmy",
   "metadata": {},
   "outputs": [
    {
     "data": {
      "text/plain": [
       "Text(0, 0.5, 'Accuracy')"
      ]
     },
     "execution_count": 81,
     "metadata": {},
     "output_type": "execute_result"
    },
    {
     "data": {
      "image/png": "[encoded data removed]",
      "text/plain": [
       "<Figure size 720x432 with 1 Axes>"
      ]
     },
     "metadata": {},
     "output_type": "display_data"
    }
   ],
   "source": [
    "plt.figure(figsize=(10,6))\n",
    "plt.plot(range(2,15),scores,color = 'blue', linestyle='dashed',\n",
    "         marker='o', markerfacecolor='red', markersize=10)\n",
    "plt.title('R2-scores vs. K Value')\n",
    "plt.xticks(range(1,16))\n",
    "#plt.gca().invert_yaxis()\n",
    "plt.xlabel('K')\n",
    "plt.ylabel('Accuracy')"
   ]
  },
  {
   "cell_type": "markdown",
   "id": "current-monster",
   "metadata": {},
   "source": [
    "11. You can check also the `MLPRegressor` for this task!"
   ]
  },
  {
   "cell_type": "code",
   "execution_count": 49,
   "id": "contemporary-honey",
   "metadata": {
    "scrolled": true
   },
   "outputs": [
    {
     "name": "stderr",
     "output_type": "stream",
     "text": [
      "/home/jzar/.local/lib/python3.9/site-packages/sklearn/neural_network/_multilayer_perceptron.py:1599: DataConversionWarning: A column-vector y was passed when a 1d array was expected. Please change the shape of y to (n_samples, ), for example using ravel().\n",
      "  y = column_or_1d(y, warn=True)\n",
      "/home/jzar/.local/lib/python3.9/site-packages/sklearn/neural_network/_multilayer_perceptron.py:692: ConvergenceWarning: Stochastic Optimizer: Maximum iterations (200) reached and the optimization hasn't converged yet.\n",
      "  warnings.warn(\n"
     ]
    },
    {
     "data": {
      "text/html": [
       "<div>\n",
       "<style scoped>\n",
       "    .dataframe tbody tr th:only-of-type {\n",
       "        vertical-align: middle;\n",
       "    }\n",
       "\n",
       "    .dataframe tbody tr th {\n",
       "        vertical-align: top;\n",
       "    }\n",
       "\n",
       "    .dataframe thead th {\n",
       "        text-align: right;\n",
       "    }\n",
       "</style>\n",
       "<table border=\"1\" class=\"dataframe\">\n",
       "  <thead>\n",
       "    <tr style=\"text-align: right;\">\n",
       "      <th></th>\n",
       "      <th>metrics</th>\n",
       "      <th>Train</th>\n",
       "      <th>Test</th>\n",
       "    </tr>\n",
       "  </thead>\n",
       "  <tbody>\n",
       "    <tr>\n",
       "      <th>0</th>\n",
       "      <td>R2</td>\n",
       "      <td>0.89</td>\n",
       "      <td>0.63</td>\n",
       "    </tr>\n",
       "    <tr>\n",
       "      <th>1</th>\n",
       "      <td>MSE</td>\n",
       "      <td>0.09</td>\n",
       "      <td>0.30</td>\n",
       "    </tr>\n",
       "    <tr>\n",
       "      <th>2</th>\n",
       "      <td>RMSE</td>\n",
       "      <td>0.30</td>\n",
       "      <td>0.55</td>\n",
       "    </tr>\n",
       "    <tr>\n",
       "      <th>3</th>\n",
       "      <td>MAE</td>\n",
       "      <td>0.21</td>\n",
       "      <td>0.36</td>\n",
       "    </tr>\n",
       "  </tbody>\n",
       "</table>\n",
       "</div>"
      ],
      "text/plain": [
       "  metrics  Train  Test\n",
       "0      R2   0.89  0.63\n",
       "1     MSE   0.09  0.30\n",
       "2    RMSE   0.30  0.55\n",
       "3     MAE   0.21  0.36"
      ]
     },
     "execution_count": 49,
     "metadata": {},
     "output_type": "execute_result"
    }
   ],
   "source": [
    "from sklearn.neural_network import  MLPRegressor\n",
    "Model_try_and_test(data_copy, typ = MLPRegressor())"
   ]
  },
  {
   "cell_type": "markdown",
   "id": "finnish-millennium",
   "metadata": {},
   "source": [
    "12. Check and discuss the results."
   ]
  },
  {
   "cell_type": "code",
   "execution_count": 29,
   "id": "polyphonic-sudan",
   "metadata": {},
   "outputs": [],
   "source": [
    "# I can see that I get better results using MLPRegressor"
   ]
  }
 ],
 "metadata": {
  "kernelspec": {
   "display_name": "Python 3 (ipykernel)",
   "language": "python",
   "name": "python3"
  },
  "language_info": {
   "codemirror_mode": {
    "name": "ipython",
    "version": 3
   },
   "file_extension": ".py",
   "mimetype": "text/x-python",
   "name": "python",
   "nbconvert_exporter": "python",
   "pygments_lexer": "ipython3",
   "version": "3.9.5"
  }
 },
 "nbformat": 4,
 "nbformat_minor": 5
}
